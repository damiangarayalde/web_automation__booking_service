{
 "cells": [
  {
   "cell_type": "code",
   "execution_count": 8,
   "metadata": {},
   "outputs": [
    {
     "name": "stdout",
     "output_type": "stream",
     "text": [
      "puny xaxl csqi plhf\n"
     ]
    }
   ],
   "source": [
    "# Importing libraries\n",
    "import imaplib, email, os\n",
    "from dotenv import load_dotenv\n",
    "\n",
    "load_dotenv()\n",
    "\n",
    "email_address   = os.environ.get('GMAIL_USER')\n",
    "password        = os.environ.get('GMAIL_PASSWORD')\n",
    "imap_url        = 'imap.gmail.com'\n",
    "mailbox         = \"inbox\"  # You can change this to the desired mailbox\n",
    "from_address    = os.environ.get('FROM_ADDRESS')\n",
    "\n",
    "print(password)"
   ]
  },
  {
   "cell_type": "code",
   "execution_count": 18,
   "metadata": {},
   "outputs": [
    {
     "name": "stdout",
     "output_type": "stream",
     "text": [
      "OTP Code:515461\n"
     ]
    }
   ],
   "source": [
    "# Connect to Gmail IMAP server \n",
    "mail = imaplib.IMAP4_SSL(imap_url)\n",
    "mail.login(email_address, password)\n",
    "mail.select(mailbox)\n",
    "\n",
    "# Search for all emails in the selected mailbox received from the specified address\n",
    "status, list_of_mails = mail.search(None, 'FROM', '\"{}\"'.format(from_address))\n",
    "#status, list_of_mails = mail.search(None, 'FROM', '\"{}\"'.format('noreply-prenotami@esteri.it'))\n",
    "\n",
    "msgs = [] # all the email data are pushed inside an array\n",
    "\n",
    "email_ids = list_of_mails[0].split()\n",
    "\n",
    "# Fetch the latest email (you can change the index if needed)\n",
    "latest_email_id = email_ids[-1]\n",
    "\n",
    "status, msg_data = mail.fetch(latest_email_id, \"(RFC822)\")\n",
    "\n",
    "\n",
    "# Parse the email content\n",
    "raw_email = msg_data[0][1]\n",
    "msg = email.message_from_bytes(raw_email)\n",
    "\n",
    "# Extract text content from the email\n",
    "if msg.is_multipart():\n",
    "    for part in msg.walk():\n",
    "        if part.get_content_type() == \"text/plain\":\n",
    "            email_body = part.get_payload(decode=True)\n",
    "            email_text = email_body.decode(\"utf-8\")\n",
    "            print(email_text)\n",
    "else:\n",
    "    email_body = msg.get_payload(decode=True)\n",
    "    email_text = email_body.decode(\"utf-8\")\n",
    "    print(email_text)\n"
   ]
  },
  {
   "cell_type": "code",
   "execution_count": 17,
   "metadata": {},
   "outputs": [
    {
     "name": "stdout",
     "output_type": "stream",
     "text": [
      "515461\n"
     ]
    }
   ],
   "source": [
    "OTP_code = email_text.split(\":\")[1]\n",
    "print(OTP_code)"
   ]
  },
  {
   "cell_type": "code",
   "execution_count": 15,
   "metadata": {},
   "outputs": [
    {
     "data": {
      "text/plain": [
       "('BYE', [b'LOGOUT Requested'])"
      ]
     },
     "execution_count": 15,
     "metadata": {},
     "output_type": "execute_result"
    }
   ],
   "source": [
    "\n",
    "# Logout from the server\n",
    "mail.logout()"
   ]
  }
 ],
 "metadata": {
  "kernelspec": {
   "display_name": "venv",
   "language": "python",
   "name": "python3"
  },
  "language_info": {
   "codemirror_mode": {
    "name": "ipython",
    "version": 3
   },
   "file_extension": ".py",
   "mimetype": "text/x-python",
   "name": "python",
   "nbconvert_exporter": "python",
   "pygments_lexer": "ipython3",
   "version": "3.11.4"
  }
 },
 "nbformat": 4,
 "nbformat_minor": 2
}
